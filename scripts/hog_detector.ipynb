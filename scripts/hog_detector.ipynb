{
 "cells": [
  {
   "cell_type": "code",
   "execution_count": null,
   "metadata": {},
   "outputs": [],
   "source": [
    "import matplotlib.pyplot as plt\n",
    "from skimage import io\n",
    "from skimage import color\n",
    "from skimage.transform import resize\n",
    "import math\n",
    "from skimage.feature import hog\n",
    "import numpy as np"
   ]
  },
  {
   "cell_type": "code",
   "execution_count": null,
   "metadata": {},
   "outputs": [],
   "source": [
    "img = resize(io.imread(\"../../IDCIA v2/images/220812_GFP-AHPC_A_GFAP_F1_DAPI_ND1_20x.tiff\"), (128, 64))\n",
    "#img = io.imread(\"../../IDCIA v2/images/220812_GFP-AHPC_A_GFAP_F1_DAPI_ND1_20x.tiff\")"
   ]
  },
  {
   "cell_type": "code",
   "execution_count": null,
   "metadata": {},
   "outputs": [],
   "source": [
    "plt.figure(figsize=(15, 8))\n",
    "plt.imshow(img, cmap=\"gray\")\n",
    "plt.axis(\"off\")\n",
    "plt.show()"
   ]
  },
  {
   "cell_type": "code",
   "execution_count": null,
   "metadata": {},
   "outputs": [],
   "source": [
    "img = np.array(img)"
   ]
  },
  {
   "cell_type": "code",
   "execution_count": null,
   "metadata": {},
   "outputs": [],
   "source": [
    "mag = []\n",
    "theta = []\n",
    "for i in range(128):\n",
    "  magnitudeArray = []\n",
    "  angleArray = []\n",
    "  for j in range(64):\n",
    "    # Condition for axis 0\n",
    "    if j-1 <= 0 or j+1 >= 64:\n",
    "      if j-1 <= 0:\n",
    "        # Condition if first element\n",
    "        Gx = img[i][j+1] - 0\n",
    "      elif j + 1 >= len(img[0]):\n",
    "        Gx = 0 - img[i][j-1]\n",
    "    # Condition for first element\n",
    "    else:\n",
    "      Gx = img[i][j+1] - img[i][j-1]\n",
    "    \n",
    "    # Condition for axis 1\n",
    "    if i-1 <= 0 or i+1 >= 128:\n",
    "      if i-1 <= 0:\n",
    "        Gy = 0 - img[i+1][j]\n",
    "      elif i +1 >= 128:\n",
    "        Gy = img[i-1][j] - 0\n",
    "    else:\n",
    "      Gy = img[i-1][j] - img[i+1][j]\n",
    "\n",
    "    # Calculating magnitude\n",
    "    magnitude = math.sqrt(pow(Gx, 2) + pow(Gy, 2))\n",
    "    magnitudeArray.append(round(magnitude, 9))\n",
    "\n",
    "    # Calculating angle\n",
    "    if Gx == 0:\n",
    "      angle = math.degrees(0.0)\n",
    "    else:\n",
    "      angle = math.degrees(abs(math.atan(Gy / Gx)))\n",
    "    angleArray.append(round(angle, 9))\n",
    "  mag.append(magnitudeArray)\n",
    "  theta.append(angleArray)\n",
    "     "
   ]
  },
  {
   "cell_type": "code",
   "execution_count": null,
   "metadata": {},
   "outputs": [],
   "source": [
    "mag = np.array(mag)"
   ]
  },
  {
   "cell_type": "code",
   "execution_count": null,
   "metadata": {},
   "outputs": [],
   "source": [
    "theta = np.array(theta)"
   ]
  },
  {
   "cell_type": "code",
   "execution_count": null,
   "metadata": {},
   "outputs": [],
   "source": [
    "\n",
    "plt.figure(figsize=(15, 8))\n",
    "plt.imshow(mag, cmap=\"gray\")\n",
    "plt.axis(\"off\")\n",
    "plt.show()"
   ]
  },
  {
   "cell_type": "code",
   "execution_count": null,
   "metadata": {},
   "outputs": [],
   "source": [
    "from skimage.io import imread, imshow\n",
    "from skimage.transform import resize\n",
    "from skimage.feature import hog\n",
    "from skimage import exposure\n",
    "import matplotlib.pyplot as plt\n",
    "%matplotlib inline\n",
    "\n",
    "\n",
    "#reading the image\n",
    "img = imread('../../IDCIA v2/images/220812_GFP-AHPC_A_GFAP_F1_DAPI_ND1_20x.tiff')\n",
    "offset = 0\n",
    "scale = 5\n",
    "img = img + offset # Sets a Min Brightness\n",
    "img = img * scale # Set a Max on Brightness\n",
    "imshow(img)\n",
    "print(img.shape)"
   ]
  },
  {
   "cell_type": "code",
   "execution_count": null,
   "metadata": {},
   "outputs": [],
   "source": [
    "#resizing image \n",
    "resized_img = resize(img, (128,64)) \n",
    "imshow(resized_img) \n",
    "print(resized_img.shape)"
   ]
  },
  {
   "cell_type": "code",
   "execution_count": null,
   "metadata": {},
   "outputs": [],
   "source": [
    "\n",
    "#creating hog features \n",
    "fd, hog_image = hog(resized_img, orientations=9, pixels_per_cell=(8, 8), \n",
    "                    cells_per_block=(2, 2), visualize=True)"
   ]
  },
  {
   "cell_type": "code",
   "execution_count": null,
   "metadata": {},
   "outputs": [],
   "source": [
    "fd.shape"
   ]
  },
  {
   "cell_type": "code",
   "execution_count": null,
   "metadata": {},
   "outputs": [],
   "source": [
    "fig, (ax1, ax2) = plt.subplots(1, 2, figsize=(16, 8), sharex=True, sharey=True) \n",
    "\n",
    "ax1.imshow(resized_img, cmap=plt.cm.gray) \n",
    "ax1.set_title('Input image') \n",
    "\n",
    "# Rescale histogram for better display \n",
    "hog_image_rescaled = exposure.rescale_intensity(hog_image, in_range=(0, 10)) \n",
    "\n",
    "ax2.imshow(hog_image_rescaled, cmap=plt.cm.gray) \n",
    "ax2.set_title('Histogram of Oriented Gradients')\n",
    "\n",
    "plt.show()"
   ]
  }
 ],
 "metadata": {
  "kernelspec": {
   "display_name": "cell_counting_v2",
   "language": "python",
   "name": "python3"
  },
  "language_info": {
   "codemirror_mode": {
    "name": "ipython",
    "version": 3
   },
   "file_extension": ".py",
   "mimetype": "text/x-python",
   "name": "python",
   "nbconvert_exporter": "python",
   "pygments_lexer": "ipython3",
   "version": "3.10.4"
  },
  "orig_nbformat": 4
 },
 "nbformat": 4,
 "nbformat_minor": 2
}
